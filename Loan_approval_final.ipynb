{
 "cells": [
  {
   "cell_type": "markdown",
   "id": "515748d7",
   "metadata": {},
   "source": [
    "# Digitizing Loan Approvals for Financial Inclusion: A Machine Learning Approach for Kenyan Microfinance Institutions (MFI's) and Digital Lenders\n",
    "\n",
    "## Problem Statement\n",
    "\n",
    "Kenya’s financial landscape is rapidly evolving, with microfinance institutions and digital banking both playing pivotal roles in expanding access to financial services. MFIs have historically bridged the gap left by traditional banks, providing small, accessible loans to underserved communities, women, and small businesses groups often overlooked by mainstream banks. However, MFIs face challenges such as high interest rates, slow manual processes, and limited digital transformation.\n",
    "\n",
    "Meanwhile, digital banking is driven by high mobile penetration and platforms like M-Pesa, Loop, and Branch. It offers instant, AI-driven loan approvals, lower operational costs, and seamless integration with mobile money. Yet, digital banking also faces challenges, including data privacy, cybersecurity risks, and limited reach in remote areas without smartphones.\n",
    "\n",
    "This project aims to build a machine learning classification model that predicts whether a loan application should be approved (loan_status: Approved/Not Approved). The solution will help MFIs and digital lenders automate approvals, improve decision fairness, and streamline operations, supporting the shift toward a hybrid, inclusive, and efficient financial ecosystem in Kenya."
   ]
  },
  {
   "cell_type": "markdown",
   "id": "411ac012",
   "metadata": {},
   "source": [
    "## Business Understanding\n",
    "\n",
    "**Stakeholders:** Microfinance institutions, digital lenders, mobile banks, applicants (especially women, small businesses, and rural communities), fintech investors, and regulators.\n",
    "\n",
    "**Context and Value Proposition:**\n",
    "\n",
    "- **MFIs:** Continue to be a lifeline for the unbanked and small businesses, but must digitize to remain competitive. Digitization can reduce bureaucratic delays, lower costs, and expand reach.\n",
    "- **Digital Lenders:** Offer instant, AI-based approvals and lower fees, but must address data privacy, cybersecurity, and inclusion for non-smartphone users.\n",
    "- **Applicants:** Benefit from faster, fairer, and more accessible credit, especially women and rural entrepreneurs who have historically been underserved.\n",
    "- **Regulators:** Are evolving policies to ensure responsible lending and consumer protection as digital banking grows.\n",
    "\n",
    "**Industry Trends and Opportunities:**\n",
    "\n",
    "- The future of finance in Kenya is hybrid: MFIs are digitizing, and digital banks are expanding to underserved communities.\n",
    "- Group lending models and community-based approaches remain important for risk reduction and inclusion.\n",
    "- There is a strong push for financial inclusion, women’s empowerment, and support for small businesses.\n",
    "\n",
    "**Objective:**\n",
    "Deliver a supervised ML model that enables automated, fair, and efficient loan approvals, supporting MFIs and digital lenders in Kenya’s transition to a more inclusive, digital, and resilient financial sector."
   ]
  },
  {
   "cell_type": "markdown",
   "id": "7bb2285e",
   "metadata": {},
   "source": [
    "# Data Understanding\n",
    "\n",
    "In this section, we will explore the structure, size, and key features of the loan dataset. Understanding the data is crucial for effective modeling and interpretation.\n",
    "\n",
    "**Dataset Overview:**\n",
    "\n",
    "- The dataset contains loan applications with features such as loan amount, term, interest rate, employment details, home ownership, annual income, and loan status (target variable).\n",
    "- The target variable is `loan_status`, which indicates whether a loan was approved (e.g., 'Fully Paid') or not (e.g., 'Charged Off', 'Default').\n",
    "\n",
    "**Key Columns:**\n",
    "\n",
    "- `loan_amnt`: The amount of money requested by the borrower.\n",
    "- `term`: The duration of the loan (e.g., 36 or 60 months).\n",
    "- `int_rate`: Interest rate on the loan.\n",
    "- `grade`/`sub_grade`: Credit grades assigned by the lender.\n",
    "- `emp_length`: Length of employment.\n",
    "- `home_ownership`: Home ownership status.\n",
    "- `annual_inc`: Annual income of the applicant.\n",
    "- `purpose`: Purpose of the loan.\n",
    "- `loan_status`: Loan outcome (target).\n"
   ]
  },
  {
   "cell_type": "code",
   "execution_count": 1,
   "id": "d71a3951",
   "metadata": {},
   "outputs": [
    {
     "data": {
      "text/html": [
       "<div>\n",
       "<style scoped>\n",
       "    .dataframe tbody tr th:only-of-type {\n",
       "        vertical-align: middle;\n",
       "    }\n",
       "\n",
       "    .dataframe tbody tr th {\n",
       "        vertical-align: top;\n",
       "    }\n",
       "\n",
       "    .dataframe thead th {\n",
       "        text-align: right;\n",
       "    }\n",
       "</style>\n",
       "<table border=\"1\" class=\"dataframe\">\n",
       "  <thead>\n",
       "    <tr style=\"text-align: right;\">\n",
       "      <th></th>\n",
       "      <th>id</th>\n",
       "      <th>member_id</th>\n",
       "      <th>loan_amnt</th>\n",
       "      <th>funded_amnt</th>\n",
       "      <th>funded_amnt_inv</th>\n",
       "      <th>term</th>\n",
       "      <th>int_rate</th>\n",
       "      <th>installment</th>\n",
       "      <th>grade</th>\n",
       "      <th>sub_grade</th>\n",
       "      <th>...</th>\n",
       "      <th>num_tl_90g_dpd_24m</th>\n",
       "      <th>num_tl_op_past_12m</th>\n",
       "      <th>pct_tl_nvr_dlq</th>\n",
       "      <th>percent_bc_gt_75</th>\n",
       "      <th>pub_rec_bankruptcies</th>\n",
       "      <th>tax_liens</th>\n",
       "      <th>tot_hi_cred_lim</th>\n",
       "      <th>total_bal_ex_mort</th>\n",
       "      <th>total_bc_limit</th>\n",
       "      <th>total_il_high_credit_limit</th>\n",
       "    </tr>\n",
       "  </thead>\n",
       "  <tbody>\n",
       "    <tr>\n",
       "      <th>0</th>\n",
       "      <td>1077501</td>\n",
       "      <td>1296599</td>\n",
       "      <td>5000</td>\n",
       "      <td>5000</td>\n",
       "      <td>4975.0</td>\n",
       "      <td>36 months</td>\n",
       "      <td>10.65%</td>\n",
       "      <td>162.87</td>\n",
       "      <td>B</td>\n",
       "      <td>B2</td>\n",
       "      <td>...</td>\n",
       "      <td>NaN</td>\n",
       "      <td>NaN</td>\n",
       "      <td>NaN</td>\n",
       "      <td>NaN</td>\n",
       "      <td>0.0</td>\n",
       "      <td>0.0</td>\n",
       "      <td>NaN</td>\n",
       "      <td>NaN</td>\n",
       "      <td>NaN</td>\n",
       "      <td>NaN</td>\n",
       "    </tr>\n",
       "    <tr>\n",
       "      <th>1</th>\n",
       "      <td>1077430</td>\n",
       "      <td>1314167</td>\n",
       "      <td>2500</td>\n",
       "      <td>2500</td>\n",
       "      <td>2500.0</td>\n",
       "      <td>60 months</td>\n",
       "      <td>15.27%</td>\n",
       "      <td>59.83</td>\n",
       "      <td>C</td>\n",
       "      <td>C4</td>\n",
       "      <td>...</td>\n",
       "      <td>NaN</td>\n",
       "      <td>NaN</td>\n",
       "      <td>NaN</td>\n",
       "      <td>NaN</td>\n",
       "      <td>0.0</td>\n",
       "      <td>0.0</td>\n",
       "      <td>NaN</td>\n",
       "      <td>NaN</td>\n",
       "      <td>NaN</td>\n",
       "      <td>NaN</td>\n",
       "    </tr>\n",
       "    <tr>\n",
       "      <th>2</th>\n",
       "      <td>1077175</td>\n",
       "      <td>1313524</td>\n",
       "      <td>2400</td>\n",
       "      <td>2400</td>\n",
       "      <td>2400.0</td>\n",
       "      <td>36 months</td>\n",
       "      <td>15.96%</td>\n",
       "      <td>84.33</td>\n",
       "      <td>C</td>\n",
       "      <td>C5</td>\n",
       "      <td>...</td>\n",
       "      <td>NaN</td>\n",
       "      <td>NaN</td>\n",
       "      <td>NaN</td>\n",
       "      <td>NaN</td>\n",
       "      <td>0.0</td>\n",
       "      <td>0.0</td>\n",
       "      <td>NaN</td>\n",
       "      <td>NaN</td>\n",
       "      <td>NaN</td>\n",
       "      <td>NaN</td>\n",
       "    </tr>\n",
       "    <tr>\n",
       "      <th>3</th>\n",
       "      <td>1076863</td>\n",
       "      <td>1277178</td>\n",
       "      <td>10000</td>\n",
       "      <td>10000</td>\n",
       "      <td>10000.0</td>\n",
       "      <td>36 months</td>\n",
       "      <td>13.49%</td>\n",
       "      <td>339.31</td>\n",
       "      <td>C</td>\n",
       "      <td>C1</td>\n",
       "      <td>...</td>\n",
       "      <td>NaN</td>\n",
       "      <td>NaN</td>\n",
       "      <td>NaN</td>\n",
       "      <td>NaN</td>\n",
       "      <td>0.0</td>\n",
       "      <td>0.0</td>\n",
       "      <td>NaN</td>\n",
       "      <td>NaN</td>\n",
       "      <td>NaN</td>\n",
       "      <td>NaN</td>\n",
       "    </tr>\n",
       "    <tr>\n",
       "      <th>4</th>\n",
       "      <td>1075358</td>\n",
       "      <td>1311748</td>\n",
       "      <td>3000</td>\n",
       "      <td>3000</td>\n",
       "      <td>3000.0</td>\n",
       "      <td>60 months</td>\n",
       "      <td>12.69%</td>\n",
       "      <td>67.79</td>\n",
       "      <td>B</td>\n",
       "      <td>B5</td>\n",
       "      <td>...</td>\n",
       "      <td>NaN</td>\n",
       "      <td>NaN</td>\n",
       "      <td>NaN</td>\n",
       "      <td>NaN</td>\n",
       "      <td>0.0</td>\n",
       "      <td>0.0</td>\n",
       "      <td>NaN</td>\n",
       "      <td>NaN</td>\n",
       "      <td>NaN</td>\n",
       "      <td>NaN</td>\n",
       "    </tr>\n",
       "  </tbody>\n",
       "</table>\n",
       "<p>5 rows × 111 columns</p>\n",
       "</div>"
      ],
      "text/plain": [
       "        id  member_id  loan_amnt  funded_amnt  funded_amnt_inv        term  \\\n",
       "0  1077501    1296599       5000         5000           4975.0   36 months   \n",
       "1  1077430    1314167       2500         2500           2500.0   60 months   \n",
       "2  1077175    1313524       2400         2400           2400.0   36 months   \n",
       "3  1076863    1277178      10000        10000          10000.0   36 months   \n",
       "4  1075358    1311748       3000         3000           3000.0   60 months   \n",
       "\n",
       "  int_rate  installment grade sub_grade  ... num_tl_90g_dpd_24m  \\\n",
       "0   10.65%       162.87     B        B2  ...                NaN   \n",
       "1   15.27%        59.83     C        C4  ...                NaN   \n",
       "2   15.96%        84.33     C        C5  ...                NaN   \n",
       "3   13.49%       339.31     C        C1  ...                NaN   \n",
       "4   12.69%        67.79     B        B5  ...                NaN   \n",
       "\n",
       "  num_tl_op_past_12m pct_tl_nvr_dlq  percent_bc_gt_75 pub_rec_bankruptcies  \\\n",
       "0                NaN            NaN               NaN                  0.0   \n",
       "1                NaN            NaN               NaN                  0.0   \n",
       "2                NaN            NaN               NaN                  0.0   \n",
       "3                NaN            NaN               NaN                  0.0   \n",
       "4                NaN            NaN               NaN                  0.0   \n",
       "\n",
       "  tax_liens tot_hi_cred_lim total_bal_ex_mort total_bc_limit  \\\n",
       "0       0.0             NaN               NaN            NaN   \n",
       "1       0.0             NaN               NaN            NaN   \n",
       "2       0.0             NaN               NaN            NaN   \n",
       "3       0.0             NaN               NaN            NaN   \n",
       "4       0.0             NaN               NaN            NaN   \n",
       "\n",
       "  total_il_high_credit_limit  \n",
       "0                        NaN  \n",
       "1                        NaN  \n",
       "2                        NaN  \n",
       "3                        NaN  \n",
       "4                        NaN  \n",
       "\n",
       "[5 rows x 111 columns]"
      ]
     },
     "execution_count": 1,
     "metadata": {},
     "output_type": "execute_result"
    }
   ],
   "source": [
    "import pandas as pd\n",
    "import matplotlib.pyplot as plt\n",
    "import seaborn as sns\n",
    "from sklearn.model_selection import train_test_split\n",
    "from sklearn.preprocessing import LabelEncoder\n",
    "from imblearn.over_sampling import SMOTE\n",
    "import warnings\n",
    "warnings.filterwarnings('ignore')\n",
    "\n",
    "loan_df = pd.read_csv('loan.csv', low_memory=False)\n",
    "loan_df.head()"
   ]
  },
  {
   "cell_type": "code",
   "execution_count": 2,
   "id": "bb114467",
   "metadata": {},
   "outputs": [
    {
     "data": {
      "text/plain": [
       "(39717, 111)"
      ]
     },
     "execution_count": 2,
     "metadata": {},
     "output_type": "execute_result"
    }
   ],
   "source": [
    "# rows and columns\n",
    "loan_df.shape"
   ]
  },
  {
   "cell_type": "markdown",
   "id": "59a4c37b",
   "metadata": {},
   "source": [
    "The dataset contains 39,717 rows and 111 columns. Each row represents a loan record, and each column provides information about the borrower or the loan.\n"
   ]
  },
  {
   "cell_type": "code",
   "execution_count": 3,
   "id": "29d47730",
   "metadata": {},
   "outputs": [
    {
     "data": {
      "text/plain": [
       "float64    74\n",
       "object     24\n",
       "int64      13\n",
       "dtype: int64"
      ]
     },
     "execution_count": 3,
     "metadata": {},
     "output_type": "execute_result"
    }
   ],
   "source": [
    "# data types\n",
    "loan_df.dtypes.value_counts()"
   ]
  },
  {
   "cell_type": "markdown",
   "id": "beca6f36",
   "metadata": {},
   "source": [
    "The dataset includes 74 columns stored as floats, 24 as objects (text or categorical data), and 13 as integers. This mix of numeric and categorical features will guide how we clean, encode, and prepare the data for modeling.\n"
   ]
  },
  {
   "cell_type": "code",
   "execution_count": 4,
   "id": "60035809",
   "metadata": {},
   "outputs": [
    {
     "data": {
      "text/plain": [
       "total_il_high_credit_limit    39717\n",
       "mo_sin_old_rev_tl_op          39717\n",
       "bc_util                       39717\n",
       "bc_open_to_buy                39717\n",
       "avg_cur_bal                   39717\n",
       "                              ...  \n",
       "pub_rec                           0\n",
       "open_acc                          0\n",
       "inq_last_6mths                    0\n",
       "earliest_cr_line                  0\n",
       "id                                0\n",
       "Length: 111, dtype: int64"
      ]
     },
     "execution_count": 4,
     "metadata": {},
     "output_type": "execute_result"
    }
   ],
   "source": [
    "loan_df.isnull().sum().sort_values(ascending=False)"
   ]
  },
  {
   "cell_type": "markdown",
   "id": "95d2011e",
   "metadata": {},
   "source": [
    "This output lists the number of missing values in each column, sorted from the most missing to the least. For example, some columns such as `total_il_high_credit_limit` and `bc_util` have missing values for all 39,717 loans, while others like `pub_rec`, `open_acc`, and `id` have no missing values at all.\n"
   ]
  },
  {
   "cell_type": "code",
   "execution_count": 5,
   "id": "6c39682a",
   "metadata": {},
   "outputs": [
    {
     "data": {
      "image/png": "[encoded data removed]",
      "text/plain": [
       "<Figure size 864x576 with 1 Axes>"
      ]
     },
     "metadata": {
      "needs_background": "light"
     },
     "output_type": "display_data"
    }
   ],
   "source": [
    "missing_ratio = loan_df.isnull().mean().sort_values(ascending=False)\n",
    "plt.figure(figsize=(12,8))\n",
    "missing_ratio[missing_ratio>0].head(60).plot(kind='bar')\n",
    "plt.title(\"Top 60 Features by Missing Value Ratio\")\n",
    "plt.show()"
   ]
  },
  {
   "cell_type": "markdown",
   "id": "7c7aa6e1",
   "metadata": {},
   "source": [
    "This graph displays the top 60 features in the loan dataset ranked by their proportion of missing values. By visualizing the missing value ratios, it highlights which columns have the most incomplete data. This insight is essential for guiding data cleaning decisions and ensuring that subsequent analysis and modeling are based on reliable features.\n"
   ]
  }
 ],
 "metadata": {
  "kernelspec": {
   "display_name": "learn-env",
   "language": "python",
   "name": "python3"
  },
  "language_info": {
   "codemirror_mode": {
    "name": "ipython",
    "version": 3
   },
   "file_extension": ".py",
   "mimetype": "text/x-python",
   "name": "python",
   "nbconvert_exporter": "python",
   "pygments_lexer": "ipython3",
   "version": "3.8.5"
  }
 },
 "nbformat": 4,
 "nbformat_minor": 5
}
