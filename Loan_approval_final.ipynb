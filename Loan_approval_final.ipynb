{
 "cells": [
  {
   "cell_type": "markdown",
   "id": "515748d7",
   "metadata": {},
   "source": [
    "# Digitizing Loan Approvals for Financial Inclusion: A Machine Learning Approach for Kenyan Microfinance Institutions (MFI's) and Digital Lenders\n",
    "\n",
    "## Problem Statement\n",
    "\n",
    "Kenya’s financial landscape is rapidly evolving, with microfinance institutions and digital banking both playing pivotal roles in expanding access to financial services. MFIs have historically bridged the gap left by traditional banks, providing small, accessible loans to underserved communities, women, and small businesses groups often overlooked by mainstream banks. However, MFIs face challenges such as high interest rates, slow manual processes, and limited digital transformation.\n",
    "\n",
    "Meanwhile, digital banking is driven by high mobile penetration and platforms like M-Pesa, Loop, and Branch. It offers instant, AI-driven loan approvals, lower operational costs, and seamless integration with mobile money. Yet, digital banking also faces challenges, including data privacy, cybersecurity risks, and limited reach in remote areas without smartphones.\n",
    "\n",
    "This project aims to build a machine learning classification model that predicts whether a loan application should be approved (loan_status: Approved/Not Approved). The solution will help MFIs and digital lenders automate approvals, improve decision fairness, and streamline operations, supporting the shift toward a hybrid, inclusive, and efficient financial ecosystem in Kenya."
   ]
  },
  {
   "cell_type": "markdown",
   "id": "411ac012",
   "metadata": {},
   "source": [
    "## Business Understanding\n",
    "\n",
    "**Stakeholders:** Microfinance institutions, digital lenders, mobile banks, applicants (especially women, small businesses, and rural communities), fintech investors, and regulators.\n",
    "\n",
    "**Context and Value Proposition:**\n",
    "\n",
    "- **MFIs:** Continue to be a lifeline for the unbanked and small businesses, but must digitize to remain competitive. Digitization can reduce bureaucratic delays, lower costs, and expand reach.\n",
    "- **Digital Lenders:** Offer instant, AI-based approvals and lower fees, but must address data privacy, cybersecurity, and inclusion for non-smartphone users.\n",
    "- **Applicants:** Benefit from faster, fairer, and more accessible credit, especially women and rural entrepreneurs who have historically been underserved.\n",
    "- **Regulators:** Are evolving policies to ensure responsible lending and consumer protection as digital banking grows.\n",
    "\n",
    "**Industry Trends and Opportunities:**\n",
    "\n",
    "- The future of finance in Kenya is hybrid: MFIs are digitizing, and digital banks are expanding to underserved communities.\n",
    "- Group lending models and community-based approaches remain important for risk reduction and inclusion.\n",
    "- There is a strong push for financial inclusion, women’s empowerment, and support for small businesses.\n",
    "\n",
    "**Objective:**\n",
    "Deliver a supervised ML model that enables automated, fair, and efficient loan approvals, supporting MFIs and digital lenders in Kenya’s transition to a more inclusive, digital, and resilient financial sector."
   ]
  },
  {
   "cell_type": "markdown",
   "id": "7bb2285e",
   "metadata": {},
   "source": [
    "# Data Understanding\n",
    "\n",
    "In this section, we will explore the structure, size, and key features of the loan dataset. Understanding the data is crucial for effective modeling and interpretation.\n",
    "\n",
    "**Dataset Overview:**\n",
    "\n",
    "- The dataset contains loan applications with features such as loan amount, term, interest rate, employment details, home ownership, annual income, and loan status (target variable).\n",
    "- The target variable is `loan_status`, which indicates whether a loan was approved (e.g., 'Fully Paid') or not (e.g., 'Charged Off', 'Default').\n",
    "\n",
    "**Key Columns:**\n",
    "\n",
    "- `loan_amnt`: The amount of money requested by the borrower.\n",
    "- `term`: The duration of the loan (e.g., 36 or 60 months).\n",
    "- `int_rate`: Interest rate on the loan.\n",
    "- `grade`/`sub_grade`: Credit grades assigned by the lender.\n",
    "- `emp_length`: Length of employment.\n",
    "- `home_ownership`: Home ownership status.\n",
    "- `annual_inc`: Annual income of the applicant.\n",
    "- `purpose`: Purpose of the loan.\n",
    "- `loan_status`: Loan outcome (target).\n"
   ]
  },
  {
   "cell_type": "code",
   "execution_count": 2,
   "id": "d71a3951",
   "metadata": {},
   "outputs": [
    {
     "data": {
      "text/html": [
       "<div>\n",
       "<style scoped>\n",
       "    .dataframe tbody tr th:only-of-type {\n",
       "        vertical-align: middle;\n",
       "    }\n",
       "\n",
       "    .dataframe tbody tr th {\n",
       "        vertical-align: top;\n",
       "    }\n",
       "\n",
       "    .dataframe thead th {\n",
       "        text-align: right;\n",
       "    }\n",
       "</style>\n",
       "<table border=\"1\" class=\"dataframe\">\n",
       "  <thead>\n",
       "    <tr style=\"text-align: right;\">\n",
       "      <th></th>\n",
       "      <th>id</th>\n",
       "      <th>member_id</th>\n",
       "      <th>loan_amnt</th>\n",
       "      <th>funded_amnt</th>\n",
       "      <th>funded_amnt_inv</th>\n",
       "      <th>term</th>\n",
       "      <th>int_rate</th>\n",
       "      <th>installment</th>\n",
       "      <th>grade</th>\n",
       "      <th>sub_grade</th>\n",
       "      <th>...</th>\n",
       "      <th>num_tl_90g_dpd_24m</th>\n",
       "      <th>num_tl_op_past_12m</th>\n",
       "      <th>pct_tl_nvr_dlq</th>\n",
       "      <th>percent_bc_gt_75</th>\n",
       "      <th>pub_rec_bankruptcies</th>\n",
       "      <th>tax_liens</th>\n",
       "      <th>tot_hi_cred_lim</th>\n",
       "      <th>total_bal_ex_mort</th>\n",
       "      <th>total_bc_limit</th>\n",
       "      <th>total_il_high_credit_limit</th>\n",
       "    </tr>\n",
       "  </thead>\n",
       "  <tbody>\n",
       "    <tr>\n",
       "      <th>0</th>\n",
       "      <td>1077501</td>\n",
       "      <td>1296599</td>\n",
       "      <td>5000</td>\n",
       "      <td>5000</td>\n",
       "      <td>4975.0</td>\n",
       "      <td>36 months</td>\n",
       "      <td>10.65%</td>\n",
       "      <td>162.87</td>\n",
       "      <td>B</td>\n",
       "      <td>B2</td>\n",
       "      <td>...</td>\n",
       "      <td>NaN</td>\n",
       "      <td>NaN</td>\n",
       "      <td>NaN</td>\n",
       "      <td>NaN</td>\n",
       "      <td>0.0</td>\n",
       "      <td>0.0</td>\n",
       "      <td>NaN</td>\n",
       "      <td>NaN</td>\n",
       "      <td>NaN</td>\n",
       "      <td>NaN</td>\n",
       "    </tr>\n",
       "    <tr>\n",
       "      <th>1</th>\n",
       "      <td>1077430</td>\n",
       "      <td>1314167</td>\n",
       "      <td>2500</td>\n",
       "      <td>2500</td>\n",
       "      <td>2500.0</td>\n",
       "      <td>60 months</td>\n",
       "      <td>15.27%</td>\n",
       "      <td>59.83</td>\n",
       "      <td>C</td>\n",
       "      <td>C4</td>\n",
       "      <td>...</td>\n",
       "      <td>NaN</td>\n",
       "      <td>NaN</td>\n",
       "      <td>NaN</td>\n",
       "      <td>NaN</td>\n",
       "      <td>0.0</td>\n",
       "      <td>0.0</td>\n",
       "      <td>NaN</td>\n",
       "      <td>NaN</td>\n",
       "      <td>NaN</td>\n",
       "      <td>NaN</td>\n",
       "    </tr>\n",
       "    <tr>\n",
       "      <th>2</th>\n",
       "      <td>1077175</td>\n",
       "      <td>1313524</td>\n",
       "      <td>2400</td>\n",
       "      <td>2400</td>\n",
       "      <td>2400.0</td>\n",
       "      <td>36 months</td>\n",
       "      <td>15.96%</td>\n",
       "      <td>84.33</td>\n",
       "      <td>C</td>\n",
       "      <td>C5</td>\n",
       "      <td>...</td>\n",
       "      <td>NaN</td>\n",
       "      <td>NaN</td>\n",
       "      <td>NaN</td>\n",
       "      <td>NaN</td>\n",
       "      <td>0.0</td>\n",
       "      <td>0.0</td>\n",
       "      <td>NaN</td>\n",
       "      <td>NaN</td>\n",
       "      <td>NaN</td>\n",
       "      <td>NaN</td>\n",
       "    </tr>\n",
       "    <tr>\n",
       "      <th>3</th>\n",
       "      <td>1076863</td>\n",
       "      <td>1277178</td>\n",
       "      <td>10000</td>\n",
       "      <td>10000</td>\n",
       "      <td>10000.0</td>\n",
       "      <td>36 months</td>\n",
       "      <td>13.49%</td>\n",
       "      <td>339.31</td>\n",
       "      <td>C</td>\n",
       "      <td>C1</td>\n",
       "      <td>...</td>\n",
       "      <td>NaN</td>\n",
       "      <td>NaN</td>\n",
       "      <td>NaN</td>\n",
       "      <td>NaN</td>\n",
       "      <td>0.0</td>\n",
       "      <td>0.0</td>\n",
       "      <td>NaN</td>\n",
       "      <td>NaN</td>\n",
       "      <td>NaN</td>\n",
       "      <td>NaN</td>\n",
       "    </tr>\n",
       "    <tr>\n",
       "      <th>4</th>\n",
       "      <td>1075358</td>\n",
       "      <td>1311748</td>\n",
       "      <td>3000</td>\n",
       "      <td>3000</td>\n",
       "      <td>3000.0</td>\n",
       "      <td>60 months</td>\n",
       "      <td>12.69%</td>\n",
       "      <td>67.79</td>\n",
       "      <td>B</td>\n",
       "      <td>B5</td>\n",
       "      <td>...</td>\n",
       "      <td>NaN</td>\n",
       "      <td>NaN</td>\n",
       "      <td>NaN</td>\n",
       "      <td>NaN</td>\n",
       "      <td>0.0</td>\n",
       "      <td>0.0</td>\n",
       "      <td>NaN</td>\n",
       "      <td>NaN</td>\n",
       "      <td>NaN</td>\n",
       "      <td>NaN</td>\n",
       "    </tr>\n",
       "  </tbody>\n",
       "</table>\n",
       "<p>5 rows × 111 columns</p>\n",
       "</div>"
      ],
      "text/plain": [
       "        id  member_id  loan_amnt  funded_amnt  funded_amnt_inv        term  \\\n",
       "0  1077501    1296599       5000         5000           4975.0   36 months   \n",
       "1  1077430    1314167       2500         2500           2500.0   60 months   \n",
       "2  1077175    1313524       2400         2400           2400.0   36 months   \n",
       "3  1076863    1277178      10000        10000          10000.0   36 months   \n",
       "4  1075358    1311748       3000         3000           3000.0   60 months   \n",
       "\n",
       "  int_rate  installment grade sub_grade  ... num_tl_90g_dpd_24m  \\\n",
       "0   10.65%       162.87     B        B2  ...                NaN   \n",
       "1   15.27%        59.83     C        C4  ...                NaN   \n",
       "2   15.96%        84.33     C        C5  ...                NaN   \n",
       "3   13.49%       339.31     C        C1  ...                NaN   \n",
       "4   12.69%        67.79     B        B5  ...                NaN   \n",
       "\n",
       "  num_tl_op_past_12m pct_tl_nvr_dlq  percent_bc_gt_75 pub_rec_bankruptcies  \\\n",
       "0                NaN            NaN               NaN                  0.0   \n",
       "1                NaN            NaN               NaN                  0.0   \n",
       "2                NaN            NaN               NaN                  0.0   \n",
       "3                NaN            NaN               NaN                  0.0   \n",
       "4                NaN            NaN               NaN                  0.0   \n",
       "\n",
       "  tax_liens tot_hi_cred_lim total_bal_ex_mort total_bc_limit  \\\n",
       "0       0.0             NaN               NaN            NaN   \n",
       "1       0.0             NaN               NaN            NaN   \n",
       "2       0.0             NaN               NaN            NaN   \n",
       "3       0.0             NaN               NaN            NaN   \n",
       "4       0.0             NaN               NaN            NaN   \n",
       "\n",
       "  total_il_high_credit_limit  \n",
       "0                        NaN  \n",
       "1                        NaN  \n",
       "2                        NaN  \n",
       "3                        NaN  \n",
       "4                        NaN  \n",
       "\n",
       "[5 rows x 111 columns]"
      ]
     },
     "execution_count": 2,
     "metadata": {},
     "output_type": "execute_result"
    }
   ],
   "source": [
    "import pandas as pd\n",
    "import matplotlib.pyplot as plt\n",
    "import seaborn as sns\n",
    "from sklearn.model_selection import train_test_split\n",
    "from sklearn.preprocessing import LabelEncoder\n",
    "from imblearn.over_sampling import SMOTE\n",
    "import warnings\n",
    "warnings.filterwarnings('ignore')\n",
    "\n",
    "loan_df = pd.read_csv('loan.csv', low_memory=False)\n",
    "loan_df.head()"
   ]
  },
  {
   "cell_type": "code",
   "execution_count": 3,
   "id": "bb114467",
   "metadata": {},
   "outputs": [
    {
     "data": {
      "text/plain": [
       "(39717, 111)"
      ]
     },
     "execution_count": 3,
     "metadata": {},
     "output_type": "execute_result"
    }
   ],
   "source": [
    "# rows and columns\n",
    "loan_df.shape"
   ]
  },
  {
   "cell_type": "markdown",
   "id": "59a4c37b",
   "metadata": {},
   "source": [
    "The dataset contains 39,717 rows and 111 columns. Each row represents a loan record, and each column provides information about the borrower or the loan.\n"
   ]
  },
  {
   "cell_type": "code",
   "execution_count": 4,
   "id": "29d47730",
   "metadata": {},
   "outputs": [
    {
     "data": {
      "text/plain": [
       "float64    74\n",
       "object     24\n",
       "int64      13\n",
       "dtype: int64"
      ]
     },
     "execution_count": 4,
     "metadata": {},
     "output_type": "execute_result"
    }
   ],
   "source": [
    "# data types\n",
    "loan_df.dtypes.value_counts()"
   ]
  },
  {
   "cell_type": "markdown",
   "id": "beca6f36",
   "metadata": {},
   "source": [
    "The dataset includes 74 columns stored as floats, 24 as objects (text or categorical data), and 13 as integers. This mix of numeric and categorical features will guide how we clean, encode, and prepare the data for modeling.\n"
   ]
  },
  {
   "cell_type": "code",
   "execution_count": 5,
   "id": "60035809",
   "metadata": {},
   "outputs": [
    {
     "data": {
      "text/plain": [
       "total_il_high_credit_limit    39717\n",
       "mo_sin_old_rev_tl_op          39717\n",
       "bc_util                       39717\n",
       "bc_open_to_buy                39717\n",
       "avg_cur_bal                   39717\n",
       "                              ...  \n",
       "pub_rec                           0\n",
       "open_acc                          0\n",
       "inq_last_6mths                    0\n",
       "earliest_cr_line                  0\n",
       "id                                0\n",
       "Length: 111, dtype: int64"
      ]
     },
     "execution_count": 5,
     "metadata": {},
     "output_type": "execute_result"
    }
   ],
   "source": [
    "loan_df.isnull().sum().sort_values(ascending=False)"
   ]
  },
  {
   "cell_type": "markdown",
   "id": "95d2011e",
   "metadata": {},
   "source": [
    "This output lists the number of missing values in each column, sorted from the most missing to the least. For example, some columns such as `total_il_high_credit_limit` and `bc_util` have missing values for all 39,717 loans, while others like `pub_rec`, `open_acc`, and `id` have no missing values at all.\n"
   ]
  },
  {
   "cell_type": "code",
   "execution_count": 6,
   "id": "6c39682a",
   "metadata": {},
   "outputs": [
    {
     "data": {
      "image/png": "[encoded data removed]",
      "text/plain": [
       "<Figure size 864x576 with 1 Axes>"
      ]
     },
     "metadata": {
      "needs_background": "light"
     },
     "output_type": "display_data"
    }
   ],
   "source": [
    "missing_ratio = loan_df.isnull().mean().sort_values(ascending=False)\n",
    "plt.figure(figsize=(12,8))\n",
    "missing_ratio[missing_ratio>0].head(60).plot(kind='bar')\n",
    "plt.title(\"Top 60 Features by Missing Value Ratio\")\n",
    "plt.show()"
   ]
  },
  {
   "cell_type": "markdown",
   "id": "7c7aa6e1",
   "metadata": {},
   "source": [
    "This graph displays the top 60 features in the loan dataset ranked by their proportion of missing values. By visualizing the missing value ratios, it highlights which columns have the most incomplete data. This insight is essential for guiding data cleaning decisions and ensuring that subsequent analysis and modeling are based on reliable features.\n"
   ]
  },
  {
   "cell_type": "markdown",
   "id": "96b682d0",
   "metadata": {},
   "source": [
    "### Dropping Columns with Excessive Missing Values\n",
    "\n",
    "In our loan dataset, some columns have a very high number of missing values. To ensure our analysis and models are robust, we dropped any column with more than 25,000 missing values (out of 39,717 rows). This keeps only columns with enough data to be useful.\n",
    "\n",
    "**Why is this important?**\n",
    "\n",
    "- Columns with too many missing values provide little information and can harm model performance.\n",
    "- Removing them helps us focus on reliable features and simplifies preprocessing.\n",
    "\n",
    "**Example:**\n",
    "If a column like `mths_since_last_delinq` had 35,000 missing values, it would be dropped. Columns like `loan_amnt` (with few or no missing values) are kept.\n"
   ]
  },
  {
   "cell_type": "code",
   "execution_count": 7,
   "id": "6bd933da",
   "metadata": {},
   "outputs": [
    {
     "name": "stdout",
     "output_type": "stream",
     "text": [
      "Remaining columns: 54\n"
     ]
    }
   ],
   "source": [
    "# Drop columns with more than 25,000 missing values\n",
    "threshold = 25000\n",
    "cols_to_drop = loan_df.columns[loan_df.isnull().sum() > threshold]\n",
    "loan_df = loan_df.drop(columns=cols_to_drop)\n",
    "print(\"Remaining columns:\", loan_df.shape[1])"
   ]
  },
  {
   "cell_type": "code",
   "execution_count": 8,
   "id": "791976e1",
   "metadata": {},
   "outputs": [
    {
     "name": "stdout",
     "output_type": "stream",
     "text": [
      "<class 'pandas.core.frame.DataFrame'>\n",
      "RangeIndex: 39717 entries, 0 to 39716\n",
      "Data columns (total 54 columns):\n",
      " #   Column                      Non-Null Count  Dtype  \n",
      "---  ------                      --------------  -----  \n",
      " 0   id                          39717 non-null  int64  \n",
      " 1   member_id                   39717 non-null  int64  \n",
      " 2   loan_amnt                   39717 non-null  int64  \n",
      " 3   funded_amnt                 39717 non-null  int64  \n",
      " 4   funded_amnt_inv             39717 non-null  float64\n",
      " 5   term                        39717 non-null  object \n",
      " 6   int_rate                    39717 non-null  object \n",
      " 7   installment                 39717 non-null  float64\n",
      " 8   grade                       39717 non-null  object \n",
      " 9   sub_grade                   39717 non-null  object \n",
      " 10  emp_title                   37258 non-null  object \n",
      " 11  emp_length                  38642 non-null  object \n",
      " 12  home_ownership              39717 non-null  object \n",
      " 13  annual_inc                  39717 non-null  float64\n",
      " 14  verification_status         39717 non-null  object \n",
      " 15  issue_d                     39717 non-null  object \n",
      " 16  loan_status                 39717 non-null  object \n",
      " 17  pymnt_plan                  39717 non-null  object \n",
      " 18  url                         39717 non-null  object \n",
      " 19  desc                        26777 non-null  object \n",
      " 20  purpose                     39717 non-null  object \n",
      " 21  title                       39706 non-null  object \n",
      " 22  zip_code                    39717 non-null  object \n",
      " 23  addr_state                  39717 non-null  object \n",
      " 24  dti                         39717 non-null  float64\n",
      " 25  delinq_2yrs                 39717 non-null  int64  \n",
      " 26  earliest_cr_line            39717 non-null  object \n",
      " 27  inq_last_6mths              39717 non-null  int64  \n",
      " 28  open_acc                    39717 non-null  int64  \n",
      " 29  pub_rec                     39717 non-null  int64  \n",
      " 30  revol_bal                   39717 non-null  int64  \n",
      " 31  revol_util                  39667 non-null  object \n",
      " 32  total_acc                   39717 non-null  int64  \n",
      " 33  initial_list_status         39717 non-null  object \n",
      " 34  out_prncp                   39717 non-null  float64\n",
      " 35  out_prncp_inv               39717 non-null  float64\n",
      " 36  total_pymnt                 39717 non-null  float64\n",
      " 37  total_pymnt_inv             39717 non-null  float64\n",
      " 38  total_rec_prncp             39717 non-null  float64\n",
      " 39  total_rec_int               39717 non-null  float64\n",
      " 40  total_rec_late_fee          39717 non-null  float64\n",
      " 41  recoveries                  39717 non-null  float64\n",
      " 42  collection_recovery_fee     39717 non-null  float64\n",
      " 43  last_pymnt_d                39646 non-null  object \n",
      " 44  last_pymnt_amnt             39717 non-null  float64\n",
      " 45  last_credit_pull_d          39715 non-null  object \n",
      " 46  collections_12_mths_ex_med  39661 non-null  float64\n",
      " 47  policy_code                 39717 non-null  int64  \n",
      " 48  application_type            39717 non-null  object \n",
      " 49  acc_now_delinq              39717 non-null  int64  \n",
      " 50  chargeoff_within_12_mths    39661 non-null  float64\n",
      " 51  delinq_amnt                 39717 non-null  int64  \n",
      " 52  pub_rec_bankruptcies        39020 non-null  float64\n",
      " 53  tax_liens                   39678 non-null  float64\n",
      "dtypes: float64(18), int64(13), object(23)\n",
      "memory usage: 16.4+ MB\n"
     ]
    }
   ],
   "source": [
    "loan_df.info()"
   ]
  },
  {
   "cell_type": "markdown",
   "id": "ffcdb27b",
   "metadata": {},
   "source": [
    "The `.info()` method shows the summary statistics of the dataset’s structure, including each column’s name, data type, and the count of non-null values. This provides a quick overview of how the data is organized and the types of variables available for analysis.\n"
   ]
  },
  {
   "cell_type": "code",
   "execution_count": 9,
   "id": "176f4131",
   "metadata": {},
   "outputs": [
    {
     "name": "stdout",
     "output_type": "stream",
     "text": [
      "\n",
      "Numerical Summary:\n",
      "                    count           mean            std      min       25%  \\\n",
      "id               39717.0  683131.913060  210694.132915  54734.0  516221.0   \n",
      "member_id        39717.0  850463.559408  265678.307421  70699.0  666780.0   \n",
      "loan_amnt        39717.0   11219.443815    7456.670694    500.0    5500.0   \n",
      "funded_amnt      39717.0   10947.713196    7187.238670    500.0    5400.0   \n",
      "funded_amnt_inv  39717.0   10397.448868    7128.450439      0.0    5000.0   \n",
      "\n",
      "                      50%        75%        max  \n",
      "id               665665.0   837755.0  1077501.0  \n",
      "member_id        850812.0  1047339.0  1314167.0  \n",
      "loan_amnt         10000.0    15000.0    35000.0  \n",
      "funded_amnt        9600.0    15000.0    35000.0  \n",
      "funded_amnt_inv    8975.0    14400.0    35000.0  \n",
      "\n",
      "Categorical Summary (top 5 columns):\n",
      "\n",
      "term \n",
      "  36 months    29096\n",
      " 60 months    10621\n",
      "Name: term, dtype: int64 \n",
      "\n",
      "int_rate \n",
      " 10.99%    956\n",
      "13.49%    826\n",
      "11.49%    825\n",
      "7.51%     787\n",
      "7.88%     725\n",
      "Name: int_rate, dtype: int64 \n",
      "\n",
      "grade \n",
      " B    12020\n",
      "A    10085\n",
      "C     8098\n",
      "D     5307\n",
      "E     2842\n",
      "Name: grade, dtype: int64 \n",
      "\n",
      "sub_grade \n",
      " B3    2917\n",
      "A4    2886\n",
      "A5    2742\n",
      "B5    2704\n",
      "B4    2512\n",
      "Name: sub_grade, dtype: int64 \n",
      "\n"
     ]
    }
   ],
   "source": [
    "# Summary stats and frequency counts reveal the ranges, central tendencies,\n",
    "# and anomalies in the dataset.\n",
    "\n",
    "print(\"\\nNumerical Summary:\\n\", loan_df.describe().T.head())\n",
    "print(\"\\nCategorical Summary (top 5 columns):\\n\")\n",
    "\n",
    "for col in loan_df.select_dtypes(include='object').columns[:4]:\n",
    "    print(col, \"\\n\", loan_df[col].value_counts().head(), \"\\n\")"
   ]
  },
  {
   "cell_type": "markdown",
   "id": "cc3ae8fe",
   "metadata": {},
   "source": [
    "For numerical variables, `.describe()` highlights the ranges, averages, and spread of values, helping identify central tendencies and possible anomalies. For categorical variables, frequency counts display the most common categories, giving insight into how values are distributed across features such as loan term, interest rate, and grade.\n"
   ]
  },
  {
   "cell_type": "markdown",
   "id": "eb8ba491",
   "metadata": {},
   "source": [
    "## Exploratory Data Analysis (EDA)\n",
    "\n",
    "In this section, we will perform an in-depth analysis of the dataset to identify trends, patterns, and potential issues. EDA helps us understand the relationships between variables and the target, and guides feature engineering and model selection.\n",
    "\n",
    "**Key EDA Steps:**\n",
    "\n",
    "- Univariate analysis: Distribution of key features (loan amount, term, interest rate, etc.)\n",
    "- Bivariate analysis: Relationship between features and loan status.\n",
    "- Missing values and outlier detection.\n",
    "- Correlation analysis.\n",
    "- Class balance for the target variable.\n",
    "\n",
    "Let's start by visualizing the distributions and relationships in the data.\n"
   ]
  },
  {
   "cell_type": "markdown",
   "id": "04959bd9",
   "metadata": {},
   "source": [
    "### Univariate Analysis: Distribution of Key Features\n"
   ]
  },
  {
   "cell_type": "code",
   "execution_count": 10,
   "id": "588c8e2a",
   "metadata": {},
   "outputs": [
    {
     "data": {
      "image/png": "[encoded data removed]",
      "text/plain": [
       "<Figure size 576x288 with 1 Axes>"
      ]
     },
     "metadata": {
      "needs_background": "light"
     },
     "output_type": "display_data"
    }
   ],
   "source": [
    "# Plot distribution of loan amount\n",
    "plt.figure(figsize=(8,4))\n",
    "sns.histplot(loan_df['loan_amnt'], bins=30, kde=True)\n",
    "plt.title('Distribution of Loan Amount')\n",
    "plt.xlabel('Loan Amount')\n",
    "plt.ylabel('Frequency')\n",
    "plt.show()\n"
   ]
  },
  {
   "cell_type": "markdown",
   "id": "f8a54331",
   "metadata": {},
   "source": [
    "The histogram above shows how loan amounts are distributed among applicants in our dataset. Most loans are for smaller amounts, with fewer loans as the amount increases. The blue curve (KDE) highlights the overall shape, which is right-skewed—many small loans and a few large ones.\n",
    "\n",
    "- **Most common loan amounts:** The majority of borrowers request modest loan amounts, typical for microfinance and digital lending.\n",
    "- **Outliers:** There are a few very large loans, but these are rare.\n",
    "- **Business insight:** This pattern helps lenders understand demand and set appropriate loan limits or target specific segments.\n",
    "\n",
    "Understanding this distribution is important for feature engineering, detecting outliers, and making business decisions.\n"
   ]
  },
  {
   "cell_type": "code",
   "execution_count": 11,
   "id": "9d307da0",
   "metadata": {},
   "outputs": [
    {
     "data": {
      "image/png": "[encoded data removed]",
      "text/plain": [
       "<Figure size 576x288 with 1 Axes>"
      ]
     },
     "metadata": {
      "needs_background": "light"
     },
     "output_type": "display_data"
    }
   ],
   "source": [
    "# Plot distribution of interest rate\n",
    "plt.figure(figsize=(8,4))\n",
    "sns.histplot(loan_df['int_rate'].str.rstrip('%').astype(float), bins=30, kde=True)\n",
    "plt.title('Distribution of Interest Rate')\n",
    "plt.xlabel('Interest Rate (%)')\n",
    "plt.ylabel('Frequency')\n",
    "plt.show()"
   ]
  },
  {
   "cell_type": "markdown",
   "id": "9239c8d1",
   "metadata": {},
   "source": [
    "This histogram shows the spread of interest rates offered to borrowers. Most loans have interest rates clustered around certain values, with fewer loans at very high or very low rates.\n",
    "\n",
    "- **Typical rates:** The majority of loans fall within a moderate interest rate range, reflecting lender policies and borrower risk profiles.\n",
    "- **Business insight:** Understanding interest rate distribution helps lenders set competitive rates and identify risk segments.\n",
    "- **Modeling:** Interest rate is a key feature for predicting loan approval and risk.\n"
   ]
  },
  {
   "cell_type": "code",
   "execution_count": 12,
   "id": "b835786d",
   "metadata": {},
   "outputs": [
    {
     "data": {
      "image/png": "[encoded data removed]",
      "text/plain": [
       "<Figure size 432x288 with 1 Axes>"
      ]
     },
     "metadata": {
      "needs_background": "light"
     },
     "output_type": "display_data"
    }
   ],
   "source": [
    "# Plot class balance for loan_status\n",
    "plt.figure(figsize=(6,4))\n",
    "sns.countplot(y='loan_status', data=loan_df, order=loan_df['loan_status'].value_counts().index)\n",
    "plt.title('Loan Status Distribution')\n",
    "plt.xlabel('Count')\n",
    "plt.ylabel('Loan Status')\n",
    "plt.show()"
   ]
  },
  {
   "cell_type": "markdown",
   "id": "cf71c1d8",
   "metadata": {},
   "source": [
    "This bar chart shows the distribution of loan outcomes in the dataset. Most loans are fully paid, a smaller portion are charged off (defaults), and only a few fall into other categories.\n",
    "\n",
    "- **Class balance:** Fully paid loans dominate, while defaults make up a much smaller share.\n",
    "\n",
    "- **Business insight:** The imbalance highlights that defaults are relatively rare events, but they carry high financial impact, making accurate prediction critical.\n",
    "\n",
    "- **Modeling:** Because the dataset is imbalanced, we will need to apply techniques such as class weighting or specialized evaluation metrics (e.g., PR-AUC, F1-score) to ensure the model effectively identifies defaults."
   ]
  },
  {
   "cell_type": "code",
   "execution_count": 13,
   "id": "fbba209a",
   "metadata": {},
   "outputs": [
    {
     "name": "stdout",
     "output_type": "stream",
     "text": [
      "debt_consolidation    18641\n",
      "credit_card            5130\n",
      "other                  3993\n",
      "home_improvement       2976\n",
      "major_purchase         2187\n",
      "small_business         1828\n",
      "car                    1549\n",
      "wedding                 947\n",
      "medical                 693\n",
      "moving                  583\n",
      "Name: purpose, dtype: int64\n"
     ]
    },
    {
     "data": {
      "image/png": "[encoded data removed]",
      "text/plain": [
       "<Figure size 432x288 with 1 Axes>"
      ]
     },
     "metadata": {
      "needs_background": "light"
     },
     "output_type": "display_data"
    }
   ],
   "source": [
    "# Top purposes (why people borrow)\n",
    "if \"purpose\" in loan_df.columns:\n",
    "    print(loan_df[\"purpose\"].value_counts().head(10))\n",
    "    (loan_df[\"purpose\"]\n",
    "     .value_counts()\n",
    "     .head(10)\n",
    "     .plot(kind=\"bar\", title=\"Top Loan Purposes\"))\n",
    "    plt.ylabel(\"Count\")\n",
    "    plt.show()\n"
   ]
  },
  {
   "cell_type": "markdown",
   "id": "2c279d11",
   "metadata": {},
   "source": [
    "This bar chart shows the most common purposes for which borrowers request loans. Debt consolidation is by far the leading purpose, followed by credit card refinancing and other personal uses, while categories like medical expenses and moving are less frequent.\n",
    "\n",
    "- **Most common purposes:** Debt consolidation dominates, accounting for nearly half of all loans, with credit card refinancing and home improvement also popular.\n",
    "\n",
    "- **Business insight:** Lenders can see that a majority of demand comes from borrowers looking to manage existing debt, which may signal higher underlying risk.\n",
    "\n",
    "- **Modeling:** Loan purpose is an important categorical feature, as different purposes are associated with different risk profiles and default probabilities\n"
   ]
  },
  {
   "cell_type": "code",
   "execution_count": 14,
   "id": "969a8c18",
   "metadata": {},
   "outputs": [
    {
     "name": "stdout",
     "output_type": "stream",
     "text": [
      "RENT        18899\n",
      "MORTGAGE    17659\n",
      "OWN          3058\n",
      "OTHER          98\n",
      "NONE            3\n",
      "Name: home_ownership, dtype: int64\n"
     ]
    },
    {
     "data": {
      "image/png": "[encoded data removed]",
      "text/plain": [
       "<Figure size 432x288 with 1 Axes>"
      ]
     },
     "metadata": {
      "needs_background": "light"
     },
     "output_type": "display_data"
    }
   ],
   "source": [
    "# Home ownership categories\n",
    "if \"home_ownership\" in loan_df.columns:\n",
    "    print(loan_df[\"home_ownership\"].value_counts())\n",
    "    (loan_df[\"home_ownership\"]\n",
    "     .value_counts()\n",
    "     .plot(kind=\"bar\", title=\"Home Ownership\"))\n",
    "    plt.ylabel(\"Count\")\n",
    "    plt.show()"
   ]
  },
  {
   "cell_type": "markdown",
   "id": "9e264e94",
   "metadata": {},
   "source": [
    "This bar chart shows the distribution of borrowers by home ownership status. Most borrowers either rent or have a mortgage, while fewer own their homes outright, and very few fall into the “Other” or “None” categories.\n",
    "\n",
    "- **Most common categories:** Renting and mortgages dominate, making up the vast majority of borrowers.\n",
    "\n",
    "- **Business insight:** Borrowers with mortgages may have more financial stability than renters, while those who own outright represent a smaller but potentially lower-risk group.\n",
    "\n",
    "- **Modeling:** Home ownership is a valuable categorical feature, as it often correlates with borrower stability and repayment ability.\n"
   ]
  }
 ],
 "metadata": {
  "kernelspec": {
   "display_name": "learn-env",
   "language": "python",
   "name": "python3"
  },
  "language_info": {
   "codemirror_mode": {
    "name": "ipython",
    "version": 3
   },
   "file_extension": ".py",
   "mimetype": "text/x-python",
   "name": "python",
   "nbconvert_exporter": "python",
   "pygments_lexer": "ipython3",
   "version": "3.8.5"
  }
 },
 "nbformat": 4,
 "nbformat_minor": 5
}
